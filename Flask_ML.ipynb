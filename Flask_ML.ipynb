{
  "nbformat": 4,
  "nbformat_minor": 0,
  "metadata": {
    "colab": {
      "name": "Untitled8.ipynb",
      "provenance": []
    },
    "kernelspec": {
      "name": "python3",
      "display_name": "Python 3"
    },
    "language_info": {
      "name": "python"
    },
    "accelerator": "GPU"
  },
  "cells": [
    {
      "cell_type": "code",
      "source": [
        "!mkdir static template data"
      ],
      "metadata": {
        "id": "Vo01Zwv6vhL4"
      },
      "execution_count": 30,
      "outputs": []
    },
    {
      "cell_type": "code",
      "source": [
        "!wget https://bin.equinox.io/c/4VmDzA7iaHb/ngrok-stable-linux-amd64.tgz\n",
        "!tar -xvf /content/ngrok-stable-linux-amd64.tgz\n",
        "#https://dashboard.ngrok.com/get-started/your-authtoken link to get auth token.\n",
        "!./ngrok authtoken \"<YOUR-AUTH-TOKEN>\""
      ],
      "metadata": {
        "id": "jh1HHUsno3Ex"
      },
      "execution_count": null,
      "outputs": []
    },
    {
      "cell_type": "code",
      "source": [
        "!pip install flask_ngrok"
      ],
      "metadata": {
        "id": "ntJH5I3tnXf1"
      },
      "execution_count": null,
      "outputs": []
    },
    {
      "cell_type": "code",
      "execution_count": 32,
      "metadata": {
        "id": "YvoBGCaDdMHe"
      },
      "outputs": [],
      "source": [
        "from flask import Flask, url_for, render_template, request, redirect, flash\n",
        "from flask_ngrok import run_with_ngrok\n",
        "from werkzeug.utils import secure_filename\n",
        "import os\n",
        "from datetime import datetime\n",
        "\n",
        "import tensorflow as tf\n",
        "import tensorflow_hub as hub\n",
        "\n",
        "# For drawing onto the image.\n",
        "import numpy as np\n",
        "from PIL import Image\n",
        "from PIL import ImageColor\n",
        "from PIL import ImageDraw\n",
        "from PIL import ImageFont\n",
        "from PIL import ImageOps\n",
        "\n",
        "# For closing the application.\n",
        "import os\n"
      ]
    },
    {
      "cell_type": "code",
      "source": [
        "def resize_image(filename, new_width=256, new_height=256):\n",
        "    pil_image = Image.open(filename)\n",
        "    pil_image = ImageOps.fit(pil_image, (new_width, new_height), Image.ANTIALIAS)\n",
        "    pil_image_rgb = pil_image.convert(\"RGB\")\n",
        "    pil_image_rgb.save(filename, format=\"JPEG\", quality=100)\n",
        "    print(\"Image Saved to %s.\" % filename)\n",
        "\n",
        "    return filename\n",
        "\n",
        "\n",
        "def load_img(path):\n",
        "    img = tf.io.read_file(path)\n",
        "    img = tf.image.decode_jpeg(img, channels=3)\n",
        "    return img\n",
        "\n",
        "\n",
        "def run_detector(filename):\n",
        "    \n",
        "    module_handle = \"https://tfhub.dev/google/openimages_v4/ssd/mobilenet_v2/1\"\n",
        "    detector = hub.load(module_handle).signatures['default']\n",
        "    \n",
        "    resize_image(filename)\n",
        "    \n",
        "    img = load_img(filename)\n",
        "\n",
        "    converted_img = tf.image.convert_image_dtype(img, tf.float32)[tf.newaxis, ...]\n",
        "    result = detector(converted_img)\n",
        "\n",
        "    result = {key: value.numpy() for key, value in result.items()}\n",
        "\n",
        "\n",
        "    classes_detected = [x.decode('ascii') for x in result[\"detection_class_entities\"]]\n",
        "    classes_detected = list(dict.fromkeys(classes_detected))\n",
        "\n",
        "\n",
        "    os.remove(filename)\n",
        "\n",
        "    return classes_detected"
      ],
      "metadata": {
        "id": "KNgD3rIPl-7w"
      },
      "execution_count": 33,
      "outputs": []
    },
    {
      "cell_type": "code",
      "source": [
        "UPLOAD_FOLDER = os.getcwd() + '/data/'\n",
        "ALLOWED_EXTENSIONS = {'jpg', 'png', 'jpeg'}\n",
        "\n",
        "app = Flask(__name__, template_folder='template')\n",
        "app.config['UPLOAD_FOLDER'] = UPLOAD_FOLDER\n",
        "run_with_ngrok(app)\n",
        "now = datetime.now()\n",
        "\n",
        "\n",
        "@app.route(\"/\", methods=['GET', 'POST'])\n",
        "def index_upload():\n",
        "    return render_template('form.html')\n",
        "    \n",
        "def allowed_filename(filename):\n",
        "    return '.' in filename and filename.rsplit('.', 1)[1].lower() in ALLOWED_EXTENSIONS\n",
        "\n",
        "@app.route(\"/results\", methods=['POST'])\n",
        "def results():\n",
        "    if request.method == 'POST':    \n",
        "        if 'file' not in request.files:\n",
        "            flash('No files!')\n",
        "            return redirect(url_for(\"index_upload\"))\n",
        "        f = request.files['file']\n",
        "        if f.filename == '':\n",
        "            flash('No selected file!')\n",
        "            return redirect(url_for(\"index_upload\"))\n",
        "        if f and allowed_filename(f.filename):\n",
        "            file = secure_filename(f.filename)\n",
        "            filename = os.path.join(app.config['UPLOAD_FOLDER'], file)\n",
        "            f.save(filename)\n",
        "            \n",
        "            result = run_detector(filename)\n",
        "            \n",
        "            return render_template('results.html', value=result)"
      ],
      "metadata": {
        "id": "I3zgZ1EGmE71"
      },
      "execution_count": 36,
      "outputs": []
    },
    {
      "cell_type": "code",
      "source": [
        "app.run()"
      ],
      "metadata": {
        "id": "QaOYqwZ1mOV4"
      },
      "execution_count": null,
      "outputs": []
    }
  ]
}